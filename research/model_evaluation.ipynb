{
 "cells": [
  {
   "cell_type": "code",
   "execution_count": 1,
   "id": "824cdaad",
   "metadata": {},
   "outputs": [],
   "source": [
    "import os\n",
    "os.chdir(\"../\")"
   ]
  },
  {
   "cell_type": "code",
   "execution_count": 2,
   "id": "8c8ce6aa",
   "metadata": {},
   "outputs": [],
   "source": [
    "from dataclasses import dataclass\n",
    "from pathlib import Path\n",
    "\n",
    "@dataclass(frozen=True)\n",
    "class EvaluationConfig:\n",
    "    path_of_model: Path\n",
    "    training_data: Path\n",
    "    all_params: dict\n",
    "    image_size: list\n",
    "    batch_size: int"
   ]
  },
  {
   "cell_type": "code",
   "execution_count": 3,
   "id": "cc16f1ac",
   "metadata": {},
   "outputs": [],
   "source": [
    "from kidney_classifier.constants import *\n",
    "from kidney_classifier.utils.common import read_yaml, create_directories\n",
    "from kidney_classifier.entity.config_entity import (DataIngestionConfig, \n",
    "                                                      PrepareBaseModelConfig, \n",
    "                                                      TrainingConfig,\n",
    "                                                      EvaluationConfig) # Make sure EvaluationConfig is imported\n",
    "from pathlib import Path\n",
    "\n",
    "class ConfigurationManager:\n",
    "    def __init__(\n",
    "        self,\n",
    "        config_filepath = CONFIG_FILE_PATH,\n",
    "        params_filepath = PARAMS_FILE_PATH):\n",
    "\n",
    "        self.config = read_yaml(config_filepath)\n",
    "        self.params = read_yaml(params_filepath)\n",
    "\n",
    "        create_directories([self.config.artifacts_root])\n",
    "\n",
    "    # ... (get_data_ingestion_config, get_prepare_base_model_config, get_training_config methods) ...\n",
    "\n",
    "    def get_evaluation_config(self) -> EvaluationConfig:\n",
    "        eval_config = self.config.evaluation\n",
    "        # self.params is already a dictionary from reading params.yaml\n",
    "        params = self.params \n",
    "        \n",
    "        evaluation_config = EvaluationConfig(\n",
    "            path_of_model=Path(eval_config.path_of_model),\n",
    "            training_data=Path(eval_config.training_data),\n",
    "            all_params=params,\n",
    "            image_size=params.IMAGE_SIZE,\n",
    "            batch_size=params.BATCH_SIZE\n",
    "        )\n",
    "        return evaluation_config"
   ]
  },
  {
   "cell_type": "code",
   "execution_count": null,
   "id": "f3b01450",
   "metadata": {},
   "outputs": [],
   "source": []
  }
 ],
 "metadata": {
  "kernelspec": {
   "display_name": "kid_cnn",
   "language": "python",
   "name": "python3"
  },
  "language_info": {
   "codemirror_mode": {
    "name": "ipython",
    "version": 3
   },
   "file_extension": ".py",
   "mimetype": "text/x-python",
   "name": "python",
   "nbconvert_exporter": "python",
   "pygments_lexer": "ipython3",
   "version": "3.10.18"
  }
 },
 "nbformat": 4,
 "nbformat_minor": 5
}
